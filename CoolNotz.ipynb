{
 "cells": [
  {
   "cell_type": "markdown",
   "metadata": {},
   "source": [
    "# Setup Minedojo Environment"
   ]
  },
  {
   "cell_type": "code",
   "execution_count": 1,
   "metadata": {},
   "outputs": [
    {
     "name": "stderr",
     "output_type": "stream",
     "text": [
      "[INFO:minedojo.tasks] Loaded 1572 Programmatic tasks, 1558 Creative tasks, and 1 special task: \"Playthrough\". Totally 3131 tasks loaded.\n"
     ]
    },
    {
     "name": "stdout",
     "output_type": "stream",
     "text": [
      "starting Reloader 0\n",
      "ThreadID: 0 has received an enviornment from queue. Reset of environement is being prepeared\n"
     ]
    },
    {
     "name": "stderr",
     "output_type": "stream",
     "text": [
      "[INFO:minedojo.tasks] Loaded 1572 Programmatic tasks, 1558 Creative tasks, and 1 special task: \"Playthrough\". Totally 3131 tasks loaded.\n",
      "[INFO:minedojo.tasks] Loaded 1572 Programmatic tasks, 1558 Creative tasks, and 1 special task: \"Playthrough\". Totally 3131 tasks loaded.\n"
     ]
    },
    {
     "data": {
      "text/plain": "array([[[  0,   0,   0, ...,   0,   0,   0],\n        [  0,   0,   0, ...,   0,   0,   0],\n        [  6,   6,   7, ...,  12,  11,  10],\n        ...,\n        [ 61,  64,  19, ...,  72,  69,  65],\n        [ 58,  62,  18, ...,  70,  66,  62],\n        [ 56,  59,  16, ...,  68,  64,  60]],\n\n       [[  0,   0,   0, ...,   0,   0,   0],\n        [  0,   0,   0, ...,   0,   0,   0],\n        [  8,   9,  10, ...,  17,  16,  14],\n        ...,\n        [ 72,  76,  16, ...,  85,  81,  77],\n        [ 69,  73,  15, ...,  82,  78,  73],\n        [ 66,  70,  12, ...,  79,  75,  70]],\n\n       [[  0,   0,   0, ...,   0,   0,   0],\n        [  0,   0,   0, ...,   0,   0,   0],\n        [  2,   2,   3, ...,   5,   4,   4],\n        ...,\n        [ 91,  96,  10, ..., 107, 102,  96],\n        [ 87,  92,  10, ..., 104,  98,  93],\n        [ 83,  88,   8, ..., 100,  94,  89]]], dtype=uint8)"
     },
     "execution_count": 1,
     "metadata": {},
     "output_type": "execute_result"
    }
   ],
   "source": [
    "from Environments import SkyRunner, MultithreadGym\n",
    "frame_stack = False\n",
    "frames = 4\n",
    "use_grayscale=False\n",
    "\n",
    "# Multithreaded environment wrapper\n",
    "env = MultithreadGym.MultithreadGym(thread_int=1, env_int=1, frame_stack=frame_stack, frames_int=frames, use_grayscale=use_grayscale)\n",
    "\n",
    "# Evaluation environment\n",
    "eval_env = SkyRunner.CustomEnv(frame_stack=frame_stack, frames_int=frames, use_grayscale=use_grayscale)\n",
    "eval_env.reset()"
   ]
  },
  {
   "cell_type": "markdown",
   "metadata": {},
   "source": [
    "# Begin training"
   ]
  },
  {
   "cell_type": "code",
   "execution_count": null,
   "metadata": {
    "pycharm": {
     "is_executing": true
    }
   },
   "outputs": [
    {
     "name": "stdout",
     "output_type": "stream",
     "text": [
      "Waiting for ready enviornment\n",
      "Ready enviornment received\n",
      "Inventory and weather cleared!\n",
      "Inventory and weather cleared!\n",
      "Inventory and weather cleared!\n",
      "Inventory and weather cleared!\n",
      "Inventory and weather cleared!\n"
     ]
    }
   ],
   "source": [
    "import train_openAI\n",
    "import importlib\n",
    "\n",
    "importlib.reload(train_openAI)\n",
    "\n",
    "train_openAI.train(env, eval_env=eval_env, eval_freq=5000, use_prioritized_replay=False, name=\"kristian-baseline-3\")"
   ]
  },
  {
   "cell_type": "markdown",
   "metadata": {},
   "source": [
    "# Shutdown Environments"
   ]
  },
  {
   "cell_type": "code",
   "execution_count": 3,
   "metadata": {},
   "outputs": [
    {
     "name": "stdout",
     "output_type": "stream",
     "text": [
      "stopping Reloader 0\n"
     ]
    }
   ],
   "source": [
    "env.close()\n",
    "eval_env.close()"
   ]
  },
  {
   "cell_type": "markdown",
   "metadata": {},
   "source": [
    "# Load existing model"
   ]
  },
  {
   "cell_type": "code",
   "execution_count": null,
   "metadata": {},
   "outputs": [],
   "source": [
    "from stable_baselines3 import DQN\n",
    "from CustomBaselines3.DoubleDQN import DoubleDQN\n",
    "\n",
    "_env = env\n",
    "model = DoubleDQN.load(\"/Users/kristian.aars/PycharmProjects/IDATT2502-SkyBrainAI/dDQN-checkpoints/checkpoint_30000_steps.zip\")\n",
    "\n",
    "obs = env.reset()\n",
    "acc_r = 0\n",
    "while True:\n",
    "    act, st = model.predict(obs, deterministic=True)\n",
    "    obs, reward, done, info = env.step(act)\n",
    "\n",
    "    acc_r += reward\n",
    "\n",
    "    env.render()\n",
    "\n",
    "    if done:\n",
    "        obs = env.reset()\n",
    "        print(\"Finished with reward %d\" % acc_r)\n",
    "        acc_r = 0"
   ]
  },
  {
   "cell_type": "code",
   "execution_count": null,
   "metadata": {
    "collapsed": false
   },
   "outputs": [],
   "source": []
  }
 ],
 "metadata": {
  "kernelspec": {
   "display_name": "Python 3.9.6 ('venv': venv)",
   "language": "python",
   "name": "python3"
  },
  "language_info": {
   "codemirror_mode": {
    "name": "ipython",
    "version": 3
   },
   "file_extension": ".py",
   "mimetype": "text/x-python",
   "name": "python",
   "nbconvert_exporter": "python",
   "pygments_lexer": "ipython3",
   "version": "3.9.6"
  },
  "vscode": {
   "interpreter": {
    "hash": "9100f79a7cf9690ce7cf79f8b2e62e57361e326a7400229bc21352d33c935312"
   }
  }
 },
 "nbformat": 4,
 "nbformat_minor": 1
}
