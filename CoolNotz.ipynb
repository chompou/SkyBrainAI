{
 "cells": [
  {
   "cell_type": "markdown",
   "metadata": {},
   "source": [
    "# Setup Minedojo Environment"
   ]
  },
  {
   "cell_type": "code",
   "execution_count": null,
   "metadata": {},
   "outputs": [],
   "source": [
    "from Environments import SkyRunner, MultithreadGym\n",
    "frame_stack = False\n",
    "frames = 4\n",
    "use_grayscale=False\n",
    "\n",
    "# Multithreaded environment wrapper\n",
    "env = MultithreadGym.MultithreadGym(thread_int=1, env_int=1, frame_stack=frame_stack, frames_int=frames, use_grayscale=use_grayscale)\n",
    "\n",
    "# Evaluation environment\n",
    "eval_env = SkyRunner.CustomEnv(frame_stack=frame_stack, frames_int=frames, use_grayscale=use_grayscale)\n",
    "eval_env.reset()"
   ]
  },
  {
   "cell_type": "markdown",
   "metadata": {},
   "source": [
    "# Begin training"
   ]
  },
  {
   "cell_type": "code",
   "execution_count": null,
   "metadata": {},
   "outputs": [],
   "source": [
    "import train_openAI\n",
    "import importlib\n",
    "\n",
    "importlib.reload(train_openAI)\n",
    "\n",
    "train_openAI.train(env, eval_env=eval_env, eval_freq=5000, use_prioritized_replay=False, name=\"baseline-4\")"
   ]
  },
  {
   "cell_type": "markdown",
   "metadata": {},
   "source": [
    "# Shutdown Environments"
   ]
  },
  {
   "cell_type": "code",
   "execution_count": null,
   "metadata": {},
   "outputs": [],
   "source": [
    "env.close()\n",
    "eval_env.close()"
   ]
  },
  {
   "cell_type": "markdown",
   "metadata": {},
   "source": [
    "# Load existing model"
   ]
  },
  {
   "cell_type": "code",
   "execution_count": null,
   "metadata": {},
   "outputs": [],
   "source": [
    "from stable_baselines3 import DQN\n",
    "from CustomBaselines3.DoubleDQN import DoubleDQN\n",
    "\n",
    "_env = env\n",
    "model = DoubleDQN.load(\"/Users/kristian.aars/PycharmProjects/IDATT2502-SkyBrainAI/dDQN-checkpoints/checkpoint_30000_steps.zip\")\n",
    "\n",
    "obs = env.reset()\n",
    "acc_r = 0\n",
    "while True:\n",
    "    act, st = model.predict(obs, deterministic=True)\n",
    "    obs, reward, done, info = env.step(act)\n",
    "\n",
    "    acc_r += reward\n",
    "\n",
    "    env.render()\n",
    "\n",
    "    if done:\n",
    "        obs = env.reset()\n",
    "        print(\"Finished with reward %d\" % acc_r)\n",
    "        acc_r = 0"
   ]
  },
  {
   "cell_type": "code",
   "execution_count": null,
   "outputs": [],
   "source": [],
   "metadata": {
    "collapsed": false
   }
  }
 ],
 "metadata": {
  "kernelspec": {
   "display_name": "Python 3 (ipykernel)",
   "language": "python",
   "name": "python3"
  },
  "language_info": {
   "codemirror_mode": {
    "name": "ipython",
    "version": 3
   },
   "file_extension": ".py",
   "mimetype": "text/x-python",
   "name": "python",
   "nbconvert_exporter": "python",
   "pygments_lexer": "ipython3",
   "version": "3.9.6"
  },
  "vscode": {
   "interpreter": {
    "hash": "6f4ee9357211d44d3e981e4e0d844309e69c0bf4b17fdc34e295ed04eb1a48a9"
   }
  }
 },
 "nbformat": 4,
 "nbformat_minor": 1
}
