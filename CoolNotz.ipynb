{
 "cells": [
  {
   "cell_type": "code",
   "execution_count": 1,
   "metadata": {
    "collapsed": true
   },
   "outputs": [
    {
     "name": "stderr",
     "output_type": "stream",
     "text": [
      "[INFO:minedojo.tasks] Loaded 1572 Programmatic tasks, 1558 Creative tasks, and 1 special task: \"Playthrough\". Totally 3131 tasks loaded.\n"
     ]
    }
   ],
   "source": [
    "import SkyRunner\n",
    "\n",
    "env = SkyRunner.CustomEnv()"
   ]
  },
  {
   "cell_type": "code",
   "execution_count": 5,
   "outputs": [
    {
     "name": "stdout",
     "output_type": "stream",
     "text": [
      "9\n",
      "4\n",
      "14\n",
      "1008\n",
      "-9\n",
      "5\n",
      "1001\n",
      "-5\n",
      "-4\n",
      "-4\n",
      "10\n",
      "13\n",
      "-4\n",
      "13\n",
      "-10\n",
      "9\n",
      "11\n",
      "-10\n",
      "15\n",
      "10\n",
      "9\n",
      "4\n",
      "5\n",
      "-1\n",
      "9\n",
      "0\n",
      "-1\n",
      "-8\n",
      "-10\n",
      "15\n",
      "-3\n",
      "-10\n",
      "-10\n",
      "-10\n",
      "-5\n",
      "0\n",
      "-10\n",
      "9\n",
      "6\n",
      "-10\n",
      "14\n",
      "-10\n",
      "15\n",
      "-4\n",
      "-10\n",
      "21\n",
      "-2\n",
      "-10\n",
      "1\n",
      "5\n"
     ]
    },
    {
     "ename": "KeyboardInterrupt",
     "evalue": "",
     "output_type": "error",
     "traceback": [
      "\u001B[0;31m---------------------------------------------------------------------------\u001B[0m",
      "\u001B[0;31mKeyboardInterrupt\u001B[0m                         Traceback (most recent call last)",
      "Cell \u001B[0;32mIn [5], line 6\u001B[0m\n\u001B[1;32m      2\u001B[0m \u001B[38;5;28;01mimport\u001B[39;00m \u001B[38;5;21;01mimportlib\u001B[39;00m\n\u001B[1;32m      4\u001B[0m importlib\u001B[38;5;241m.\u001B[39mreload(train_openAI)\n\u001B[0;32m----> 6\u001B[0m \u001B[43mtrain_openAI\u001B[49m\u001B[38;5;241;43m.\u001B[39;49m\u001B[43mtrain\u001B[49m\u001B[43m(\u001B[49m\u001B[43menv\u001B[49m\u001B[43m)\u001B[49m\n",
      "File \u001B[0;32m~/PycharmProjects/IDATT2502-SkyBrainAI/train_openAI.py:49\u001B[0m, in \u001B[0;36mtrain\u001B[0;34m(env)\u001B[0m\n\u001B[1;32m     47\u001B[0m \u001B[38;5;28;01mfor\u001B[39;00m i \u001B[38;5;129;01min\u001B[39;00m \u001B[38;5;28mrange\u001B[39m(\u001B[38;5;241m5000\u001B[39m):\n\u001B[1;32m     48\u001B[0m     action, _state \u001B[38;5;241m=\u001B[39m model\u001B[38;5;241m.\u001B[39mpredict(obs, deterministic\u001B[38;5;241m=\u001B[39m\u001B[38;5;28;01mFalse\u001B[39;00m)\n\u001B[0;32m---> 49\u001B[0m     obs, reward, done, info \u001B[38;5;241m=\u001B[39m \u001B[43menv\u001B[49m\u001B[38;5;241;43m.\u001B[39;49m\u001B[43mstep\u001B[49m\u001B[43m(\u001B[49m\u001B[43maction\u001B[49m\u001B[43m)\u001B[49m\n\u001B[1;32m     50\u001B[0m     r \u001B[38;5;241m+\u001B[39m\u001B[38;5;241m=\u001B[39m reward\n\u001B[1;32m     51\u001B[0m     env\u001B[38;5;241m.\u001B[39mrender()\n",
      "File \u001B[0;32m~/PycharmProjects/IDATT2502-SkyBrainAI/SkyRunner.py:49\u001B[0m, in \u001B[0;36mCustomEnv.step\u001B[0;34m(self, action)\u001B[0m\n\u001B[1;32m     48\u001B[0m \u001B[38;5;28;01mdef\u001B[39;00m \u001B[38;5;21mstep\u001B[39m(\u001B[38;5;28mself\u001B[39m, action):\n\u001B[0;32m---> 49\u001B[0m     observation, reward, done, info \u001B[38;5;241m=\u001B[39m \u001B[38;5;28;43mself\u001B[39;49m\u001B[38;5;241;43m.\u001B[39;49m\u001B[43menv\u001B[49m\u001B[38;5;241;43m.\u001B[39;49m\u001B[43mstepNum\u001B[49m\u001B[43m(\u001B[49m\u001B[43maction\u001B[49m\u001B[43m)\u001B[49m\n\u001B[1;32m     50\u001B[0m     \u001B[38;5;28;01mreturn\u001B[39;00m observation, reward, done, info\n",
      "File \u001B[0;32m~/PycharmProjects/IDATT2502-SkyBrainAI/Skyrunner_mission_interpreter.py:131\u001B[0m, in \u001B[0;36mMission.stepNum\u001B[0;34m(self, num)\u001B[0m\n\u001B[1;32m    129\u001B[0m \u001B[38;5;28;01mdef\u001B[39;00m \u001B[38;5;21mstepNum\u001B[39m(\u001B[38;5;28mself\u001B[39m, num):\n\u001B[1;32m    130\u001B[0m     action \u001B[38;5;241m=\u001B[39m \u001B[38;5;28mself\u001B[39m\u001B[38;5;241m.\u001B[39mtranslate_action(num)\n\u001B[0;32m--> 131\u001B[0m     \u001B[38;5;28;01mreturn\u001B[39;00m \u001B[38;5;28;43mself\u001B[39;49m\u001B[38;5;241;43m.\u001B[39;49m\u001B[43mstep\u001B[49m\u001B[43m(\u001B[49m\u001B[43maction\u001B[49m\u001B[43m)\u001B[49m\n",
      "File \u001B[0;32m~/PycharmProjects/IDATT2502-SkyBrainAI/Skyrunner_mission_interpreter.py:123\u001B[0m, in \u001B[0;36mMission.step\u001B[0;34m(self, action)\u001B[0m\n\u001B[1;32m    122\u001B[0m \u001B[38;5;28;01mdef\u001B[39;00m \u001B[38;5;21mstep\u001B[39m(\u001B[38;5;28mself\u001B[39m, action):\n\u001B[0;32m--> 123\u001B[0m     _, __, ___, ____ \u001B[38;5;241m=\u001B[39m \u001B[38;5;28;43mself\u001B[39;49m\u001B[38;5;241;43m.\u001B[39;49m\u001B[43menv\u001B[49m\u001B[38;5;241;43m.\u001B[39;49m\u001B[43mstep\u001B[49m\u001B[43m(\u001B[49m\u001B[43maction\u001B[49m\u001B[43m)\u001B[49m\n\u001B[1;32m    124\u001B[0m     \u001B[38;5;28;01mreturn\u001B[39;00m \u001B[38;5;28mself\u001B[39m\u001B[38;5;241m.\u001B[39meval(_, __, ___, ____)\n",
      "File \u001B[0;32m~/PycharmProjects/IDATT2502-SkyBrainAI/venv/lib/python3.9/site-packages/gym/core.py:289\u001B[0m, in \u001B[0;36mWrapper.step\u001B[0;34m(self, action)\u001B[0m\n\u001B[1;32m    288\u001B[0m \u001B[38;5;28;01mdef\u001B[39;00m \u001B[38;5;21mstep\u001B[39m(\u001B[38;5;28mself\u001B[39m, action):\n\u001B[0;32m--> 289\u001B[0m     \u001B[38;5;28;01mreturn\u001B[39;00m \u001B[38;5;28;43mself\u001B[39;49m\u001B[38;5;241;43m.\u001B[39;49m\u001B[43menv\u001B[49m\u001B[38;5;241;43m.\u001B[39;49m\u001B[43mstep\u001B[49m\u001B[43m(\u001B[49m\u001B[43maction\u001B[49m\u001B[43m)\u001B[49m\n",
      "File \u001B[0;32m~/PycharmProjects/IDATT2502-SkyBrainAI/venv/lib/python3.9/site-packages/minedojo/sim/wrappers/ar_nn/delta_inventory_wrapper.py:85\u001B[0m, in \u001B[0;36mDeltaInventoryWrapper.step\u001B[0;34m(self, action)\u001B[0m\n\u001B[1;32m     84\u001B[0m \u001B[38;5;28;01mdef\u001B[39;00m \u001B[38;5;21mstep\u001B[39m(\u001B[38;5;28mself\u001B[39m, action):\n\u001B[0;32m---> 85\u001B[0m     observation, reward, done, info \u001B[38;5;241m=\u001B[39m \u001B[38;5;28;43mself\u001B[39;49m\u001B[38;5;241;43m.\u001B[39;49m\u001B[43menv\u001B[49m\u001B[38;5;241;43m.\u001B[39;49m\u001B[43mstep\u001B[49m\u001B[43m(\u001B[49m\u001B[43maction\u001B[49m\u001B[43m)\u001B[49m\n\u001B[1;32m     86\u001B[0m     new_obs \u001B[38;5;241m=\u001B[39m \u001B[38;5;28mself\u001B[39m\u001B[38;5;241m.\u001B[39mobservation(observation, action)\n\u001B[1;32m     87\u001B[0m     \u001B[38;5;28mself\u001B[39m\u001B[38;5;241m.\u001B[39m_prev_inventory \u001B[38;5;241m=\u001B[39m deepcopy(observation[\u001B[38;5;124m\"\u001B[39m\u001B[38;5;124minventory\u001B[39m\u001B[38;5;124m\"\u001B[39m])\n",
      "File \u001B[0;32m~/PycharmProjects/IDATT2502-SkyBrainAI/venv/lib/python3.9/site-packages/gym/core.py:323\u001B[0m, in \u001B[0;36mObservationWrapper.step\u001B[0;34m(self, action)\u001B[0m\n\u001B[1;32m    322\u001B[0m \u001B[38;5;28;01mdef\u001B[39;00m \u001B[38;5;21mstep\u001B[39m(\u001B[38;5;28mself\u001B[39m, action):\n\u001B[0;32m--> 323\u001B[0m     observation, reward, done, info \u001B[38;5;241m=\u001B[39m \u001B[38;5;28;43mself\u001B[39;49m\u001B[38;5;241;43m.\u001B[39;49m\u001B[43menv\u001B[49m\u001B[38;5;241;43m.\u001B[39;49m\u001B[43mstep\u001B[49m\u001B[43m(\u001B[49m\u001B[43maction\u001B[49m\u001B[43m)\u001B[49m\n\u001B[1;32m    324\u001B[0m     \u001B[38;5;28;01mreturn\u001B[39;00m \u001B[38;5;28mself\u001B[39m\u001B[38;5;241m.\u001B[39mobservation(observation), reward, done, info\n",
      "File \u001B[0;32m~/PycharmProjects/IDATT2502-SkyBrainAI/venv/lib/python3.9/site-packages/minedojo/sim/wrappers/ar_nn/nn_action_space_wrapper.py:274\u001B[0m, in \u001B[0;36mNNActionSpaceWrapper.step\u001B[0;34m(self, action)\u001B[0m\n\u001B[1;32m    267\u001B[0m     obs, reward, done, info \u001B[38;5;241m=\u001B[39m \u001B[38;5;28mself\u001B[39m\u001B[38;5;241m.\u001B[39menv\u001B[38;5;241m.\u001B[39mset_inventory(\n\u001B[1;32m    268\u001B[0m         inventory_list\u001B[38;5;241m=\u001B[39m[\n\u001B[1;32m    269\u001B[0m             InventoryItem(name\u001B[38;5;241m=\u001B[39m\u001B[38;5;124m\"\u001B[39m\u001B[38;5;124mair\u001B[39m\u001B[38;5;124m\"\u001B[39m, slot\u001B[38;5;241m=\u001B[39mdestroy_slot, quantity\u001B[38;5;241m=\u001B[39m\u001B[38;5;241m1\u001B[39m, variant\u001B[38;5;241m=\u001B[39m\u001B[38;5;241m0\u001B[39m)\n\u001B[1;32m    270\u001B[0m         ],\n\u001B[1;32m    271\u001B[0m         action\u001B[38;5;241m=\u001B[39mmalmo_action,\n\u001B[1;32m    272\u001B[0m     )\n\u001B[1;32m    273\u001B[0m \u001B[38;5;28;01melse\u001B[39;00m:\n\u001B[0;32m--> 274\u001B[0m     obs, reward, done, info \u001B[38;5;241m=\u001B[39m \u001B[38;5;28;43mself\u001B[39;49m\u001B[38;5;241;43m.\u001B[39;49m\u001B[43menv\u001B[49m\u001B[38;5;241;43m.\u001B[39;49m\u001B[43mstep\u001B[49m\u001B[43m(\u001B[49m\u001B[43mmalmo_action\u001B[49m\u001B[43m)\u001B[49m\n\u001B[1;32m    276\u001B[0m \u001B[38;5;66;03m# handle malmo's lags\u001B[39;00m\n\u001B[1;32m    277\u001B[0m \u001B[38;5;28;01mif\u001B[39;00m action[\u001B[38;5;241m5\u001B[39m] \u001B[38;5;129;01min\u001B[39;00m {\u001B[38;5;241m2\u001B[39m, \u001B[38;5;241m4\u001B[39m, \u001B[38;5;241m5\u001B[39m, \u001B[38;5;241m6\u001B[39m, \u001B[38;5;241m7\u001B[39m}:\n",
      "File \u001B[0;32m~/PycharmProjects/IDATT2502-SkyBrainAI/venv/lib/python3.9/site-packages/gym/core.py:289\u001B[0m, in \u001B[0;36mWrapper.step\u001B[0;34m(self, action)\u001B[0m\n\u001B[1;32m    288\u001B[0m \u001B[38;5;28;01mdef\u001B[39;00m \u001B[38;5;21mstep\u001B[39m(\u001B[38;5;28mself\u001B[39m, action):\n\u001B[0;32m--> 289\u001B[0m     \u001B[38;5;28;01mreturn\u001B[39;00m \u001B[38;5;28;43mself\u001B[39;49m\u001B[38;5;241;43m.\u001B[39;49m\u001B[43menv\u001B[49m\u001B[38;5;241;43m.\u001B[39;49m\u001B[43mstep\u001B[49m\u001B[43m(\u001B[49m\u001B[43maction\u001B[49m\u001B[43m)\u001B[49m\n",
      "File \u001B[0;32m~/PycharmProjects/IDATT2502-SkyBrainAI/venv/lib/python3.9/site-packages/minedojo/sim/sim.py:439\u001B[0m, in \u001B[0;36mMineDojoSim.step\u001B[0;34m(self, action)\u001B[0m\n\u001B[1;32m    437\u001B[0m \u001B[38;5;28mself\u001B[39m\u001B[38;5;241m.\u001B[39m_prev_action \u001B[38;5;241m=\u001B[39m deepcopy(action)\n\u001B[1;32m    438\u001B[0m action_xml \u001B[38;5;241m=\u001B[39m \u001B[38;5;28mself\u001B[39m\u001B[38;5;241m.\u001B[39m_action_obj_to_xml(action)\n\u001B[0;32m--> 439\u001B[0m step_tuple \u001B[38;5;241m=\u001B[39m \u001B[38;5;28;43mself\u001B[39;49m\u001B[38;5;241;43m.\u001B[39;49m\u001B[43m_bridge_env\u001B[49m\u001B[38;5;241;43m.\u001B[39;49m\u001B[43mstep\u001B[49m\u001B[43m(\u001B[49m\u001B[43m[\u001B[49m\u001B[43maction_xml\u001B[49m\u001B[43m]\u001B[49m\u001B[43m)\u001B[49m\n\u001B[1;32m    440\u001B[0m step_success, raw_obs \u001B[38;5;241m=\u001B[39m step_tuple\u001B[38;5;241m.\u001B[39mstep_success, step_tuple\u001B[38;5;241m.\u001B[39mraw_obs\n\u001B[1;32m    441\u001B[0m \u001B[38;5;28;01mif\u001B[39;00m \u001B[38;5;129;01mnot\u001B[39;00m step_success:\n\u001B[1;32m    442\u001B[0m     \u001B[38;5;66;03m# when step failed, return prev obs\u001B[39;00m\n",
      "File \u001B[0;32m~/PycharmProjects/IDATT2502-SkyBrainAI/venv/lib/python3.9/site-packages/minedojo/sim/bridge/bridge_env/bridge_env.py:107\u001B[0m, in \u001B[0;36mBridgeEnv.step\u001B[0;34m(self, action_xmls)\u001B[0m\n\u001B[1;32m    105\u001B[0m instance\u001B[38;5;241m.\u001B[39mclient_socket_send_message(step_message\u001B[38;5;241m.\u001B[39mencode())\n\u001B[1;32m    106\u001B[0m \u001B[38;5;66;03m# Receive the (image) observation.\u001B[39;00m\n\u001B[0;32m--> 107\u001B[0m obs \u001B[38;5;241m=\u001B[39m \u001B[43minstance\u001B[49m\u001B[38;5;241;43m.\u001B[39;49m\u001B[43mclient_socket_recv_message\u001B[49m\u001B[43m(\u001B[49m\u001B[43m)\u001B[49m\n\u001B[1;32m    108\u001B[0m \u001B[38;5;66;03m# Receive reward (useless though), done, and sent.\u001B[39;00m\n\u001B[1;32m    109\u001B[0m reply \u001B[38;5;241m=\u001B[39m instance\u001B[38;5;241m.\u001B[39mclient_socket_recv_message()\n",
      "File \u001B[0;32m~/PycharmProjects/IDATT2502-SkyBrainAI/venv/lib/python3.9/site-packages/minedojo/sim/bridge/mc_instance/instance.py:118\u001B[0m, in \u001B[0;36mMinecraftInstance.client_socket_recv_message\u001B[0;34m(self)\u001B[0m\n\u001B[1;32m    117\u001B[0m \u001B[38;5;28;01mdef\u001B[39;00m \u001B[38;5;21mclient_socket_recv_message\u001B[39m(\u001B[38;5;28mself\u001B[39m):\n\u001B[0;32m--> 118\u001B[0m     \u001B[38;5;28;01mreturn\u001B[39;00m \u001B[43mU\u001B[49m\u001B[38;5;241;43m.\u001B[39;49m\u001B[43mrecv_message\u001B[49m\u001B[43m(\u001B[49m\u001B[38;5;28;43mself\u001B[39;49m\u001B[38;5;241;43m.\u001B[39;49m\u001B[43mclient_socket\u001B[49m\u001B[43m)\u001B[49m\n",
      "File \u001B[0;32m~/PycharmProjects/IDATT2502-SkyBrainAI/venv/lib/python3.9/site-packages/minedojo/sim/bridge/utils/socket_comm.py:11\u001B[0m, in \u001B[0;36mrecv_message\u001B[0;34m(sock)\u001B[0m\n\u001B[1;32m     10\u001B[0m \u001B[38;5;28;01mdef\u001B[39;00m \u001B[38;5;21mrecv_message\u001B[39m(sock):\n\u001B[0;32m---> 11\u001B[0m     lengthbuf \u001B[38;5;241m=\u001B[39m \u001B[43m_recv_all\u001B[49m\u001B[43m(\u001B[49m\u001B[43msock\u001B[49m\u001B[43m,\u001B[49m\u001B[43m \u001B[49m\u001B[38;5;241;43m4\u001B[39;49m\u001B[43m)\u001B[49m\n\u001B[1;32m     12\u001B[0m     \u001B[38;5;28;01mif\u001B[39;00m \u001B[38;5;129;01mnot\u001B[39;00m lengthbuf:\n\u001B[1;32m     13\u001B[0m         \u001B[38;5;28;01mreturn\u001B[39;00m \u001B[38;5;28;01mNone\u001B[39;00m\n",
      "File \u001B[0;32m~/PycharmProjects/IDATT2502-SkyBrainAI/venv/lib/python3.9/site-packages/minedojo/sim/bridge/utils/socket_comm.py:24\u001B[0m, in \u001B[0;36m_recv_all\u001B[0;34m(sock, count)\u001B[0m\n\u001B[1;32m     22\u001B[0m buf \u001B[38;5;241m=\u001B[39m \u001B[38;5;124mb\u001B[39m\u001B[38;5;124m\"\u001B[39m\u001B[38;5;124m\"\u001B[39m\n\u001B[1;32m     23\u001B[0m \u001B[38;5;28;01mwhile\u001B[39;00m count:\n\u001B[0;32m---> 24\u001B[0m     newbuf \u001B[38;5;241m=\u001B[39m \u001B[43msock\u001B[49m\u001B[38;5;241;43m.\u001B[39;49m\u001B[43mrecv\u001B[49m\u001B[43m(\u001B[49m\u001B[43mcount\u001B[49m\u001B[43m)\u001B[49m\n\u001B[1;32m     25\u001B[0m     \u001B[38;5;28;01mif\u001B[39;00m \u001B[38;5;129;01mnot\u001B[39;00m newbuf:\n\u001B[1;32m     26\u001B[0m         \u001B[38;5;28;01mreturn\u001B[39;00m \u001B[38;5;28;01mNone\u001B[39;00m\n",
      "\u001B[0;31mKeyboardInterrupt\u001B[0m: "
     ]
    }
   ],
   "source": [
    "import train_openAI\n",
    "import importlib\n",
    "\n",
    "importlib.reload(train_openAI)\n",
    "\n",
    "train_openAI.train(env)"
   ],
   "metadata": {
    "collapsed": false
   }
  },
  {
   "cell_type": "code",
   "execution_count": 3,
   "outputs": [
    {
     "ename": "AttributeError",
     "evalue": "'CustomEnv' object has no attribute 'quit'",
     "output_type": "error",
     "traceback": [
      "\u001B[0;31m---------------------------------------------------------------------------\u001B[0m",
      "\u001B[0;31mAttributeError\u001B[0m                            Traceback (most recent call last)",
      "Cell \u001B[0;32mIn [3], line 1\u001B[0m\n\u001B[0;32m----> 1\u001B[0m \u001B[43menv\u001B[49m\u001B[38;5;241;43m.\u001B[39;49m\u001B[43mquit\u001B[49m()\n",
      "\u001B[0;31mAttributeError\u001B[0m: 'CustomEnv' object has no attribute 'quit'"
     ]
    }
   ],
   "source": [
    "env.quit()\n",
    "\n",
    "env.close()"
   ],
   "metadata": {
    "collapsed": false
   }
  },
  {
   "cell_type": "code",
   "execution_count": null,
   "outputs": [],
   "source": [
    "env.reset()"
   ],
   "metadata": {
    "collapsed": false
   }
  },
  {
   "cell_type": "code",
   "execution_count": null,
   "outputs": [],
   "source": [],
   "metadata": {
    "collapsed": false
   }
  }
 ],
 "metadata": {
  "kernelspec": {
   "display_name": "Python 3",
   "language": "python",
   "name": "python3"
  },
  "language_info": {
   "codemirror_mode": {
    "name": "ipython",
    "version": 2
   },
   "file_extension": ".py",
   "mimetype": "text/x-python",
   "name": "python",
   "nbconvert_exporter": "python",
   "pygments_lexer": "ipython2",
   "version": "2.7.6"
  }
 },
 "nbformat": 4,
 "nbformat_minor": 0
}
